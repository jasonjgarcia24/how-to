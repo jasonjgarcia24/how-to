{
 "cells": [
  {
   "cell_type": "markdown",
   "id": "b3b13e1b",
   "metadata": {},
   "source": [
    "# Bash Commands"
   ]
  },
  {
   "attachments": {},
   "cell_type": "markdown",
   "id": "581f0541",
   "metadata": {},
   "source": [
    "## List Contents (<code>ls</code>)\n",
    "#### List Directory\n",
    " - <code>ls</code> displays the content of the current directory.\n",
    " - <code>ls -la</code> lists the detailed contents of the current directory, including hidden files.<br><br>\n",
    "\n",
    "#### List Symbolic Links Only\n",
    " - <code>la -la | grep \"\\->\"</code> displays only the symbolic links in the current working directory.<br>\n",
    "<center><img src=\"img/ls_symbolic_links_only.png\" title=\"List symbolic links only\"></center>"
   ]
  }
 ],
 "metadata": {
  "kernelspec": {
   "display_name": "Python (dev)",
   "language": "python",
   "name": "dev"
  },
  "language_info": {
   "codemirror_mode": {
    "name": "ipython",
    "version": 3
   },
   "file_extension": ".py",
   "mimetype": "text/x-python",
   "name": "python",
   "nbconvert_exporter": "python",
   "pygments_lexer": "ipython3",
   "version": "3.8.8"
  }
 },
 "nbformat": 4,
 "nbformat_minor": 5
}
