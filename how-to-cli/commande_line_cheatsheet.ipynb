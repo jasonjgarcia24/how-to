{
 "cells": [
  {
   "cell_type": "markdown",
   "id": "b692533c",
   "metadata": {},
   "source": [
    "# Terminal Commands #"
   ]
  },
  {
   "cell_type": "markdown",
   "id": "c781994c",
   "metadata": {},
   "source": [
    "## Directories ##\n",
    "#### List Directory\n",
    " - `ls` displays the content of the current directory.\n",
    " - `ls -la` lists the detailed contents of the current directory, including hidden files.<br><br>\n",
    "\n",
    "#### Print Working Directory\n",
    " - `pwd` displays the path to the directory you're currently in.<br><br>\n",
    "\n",
    "#### Change Directory\n",
    " - `cd /\\<directory>` opens the `/\\<directory>` folder. This folder must be present in your current directory.\n",
    " - `cd ../` navigates to the parent directory, which is indicated by `../`. This command essentially exits the current folder and brings you to the folder that contains it.\n",
    " - `cd ~` navigates to the user's home directory.<br><br>\n",
    "\n",
    "#### Make Directory\n",
    " - `mkdir /\\<directory>` makes a new folder with the name `/\\<directory>`.<br><br>\n",
    "\n",
    "#### Remove Directory\n",
    " - `rm -r /\\<directory>` deletes the folder /`\\<directory>` and all the files within it.<br><br>\n",
    "\n",
    "#### Copy Directory\n",
    " - `cp -r /\\<sourceDirectory> /\\<targetDirectory>`: Copies `/<sourceDirectory>` and its contents into `/\\<targetDirectory>`. If there is already a folder named `/\\<sourceDirectory>` within `/\\<targetDirectory>`, the contents of the folder that was already present will be overwritten by the `/\\<sourceDirectory>` you're copying into the folder.<br><br>\n",
    "\n",
    "#### Move Directory\n",
    " - `mv /\\<sourceDirectory> /\\<targetDirectory>`: Moves `/\\<sourceDirectory>` into `/\\<targetDirectory>`. This won't work if there is already a folder in `/\\<sourceDirectory>` with the name `/\\<targetDirectory>`.\n",
    " - `mv /\\<sourceDirectory> ../`: Moves `/\\<sourceDirectory>` into the parent directory. `../` always refers to the parent directory.<br><br>\n",
    "\n",
    "##### Create Symbolic Link\n",
    " - <code>mklink /D &ltLink&gt &ltTarget&gt</code>."
   ]
  },
  {
   "cell_type": "markdown",
   "id": "8edb20d3",
   "metadata": {},
   "source": [
    "## Files ##\n",
    "#### Create File\n",
    " - `touch /\\<file>` creates a new `/\\<file>` in the current directory. Remember to include the file extension. If there's already a file with the name `/\\<file>`, it will just update the last modified time of the file.<br><br>\n",
    " \n",
    "#### Delete File\n",
    " - `rm /\\<file>` deletes the file with the name `/\\<file>`.<br><br>\n",
    "\n",
    "#### Copy File\n",
    " - `cp /\\<file> /\\<directory>`: Copies the `/\\<file>` into the `/\\<directory>` folder. If there's already a file named `/\\<file>`, the file that's already present will be overwritten by the new `/\\<file>` that you're copying in.<br><br>\n",
    "\n",
    "#### Rename File\n",
    " - `mv /\\<old-name> /\\<new-name>`: Renames a file named `/\\<old-name>` into `/\\<new-name>`.<br><br>\n",
    "\n",
    "#### Move File\n",
    " - `mv /\\<file> /\\<directory>`: Moves a file named `/\\<file>` into the `/\\<directory>` folder. If there's already a file named `/\\<file>`, the file that's already present will be overwritten by the new `/\\<file>` that you're moving in.<br><br>"
   ]
  },
  {
   "cell_type": "markdown",
   "id": "3def9f8c",
   "metadata": {},
   "source": [
    "## Utility ##\n",
    "\n",
    "#### Clear Screen\n",
    " - `clear`: Clears the terminal screen so that you don't have to sift through the previous inputs.<br><br>\n",
    "\n",
    "#### Previous Command\n",
    " - Use the up arrow to navigate to previous commands that you've used in terminal.<br><br>\n",
    "\n",
    "#### Tab Completion\n",
    " - Use the Tab key to autocomplete the current file or directory you're typing in. If multiple names could be completed from what you've typed, continue typing to the point where the names diverge. You can use tab completion again once you've narrowed down the name that you're typing.<br><br>\n",
    "\n",
    "#### Closing a Process\n",
    " - Ctrl+C (Windows) / Control+C (Mac): Ends the current process that's running in your terminal. This could be the `manual` or `node` or any of the many things that may take up the terminal window.<br><br>"
   ]
  },
  {
   "cell_type": "markdown",
   "id": "e272b998",
   "metadata": {},
   "source": [
    "## Write to File ##\n",
    "\n",
    "#### Write to file\n",
    " - echo \"Hello. This overwrites all file contents in test.txt if the file exists. If the file does not exist, the file will be created.\" > .\\test.txt\n",
    " - echo \"Hello. This appends to the file contents in test.txt if the file exists. If the file does not exist, the file will be created.\" >> .\\text.txt<br><br>\n",
    "  \n",
    "#### Open Jupyter Lab/Notebook\n",
    " - jupyter notebook\n",
    " - jupyter lab\n",
    " - jupyter lab --ContentsManager.allow_hidden=True<br><br>"
   ]
  }
 ],
 "metadata": {
  "kernelspec": {
   "display_name": "Python (dev)",
   "language": "python",
   "name": "dev"
  },
  "language_info": {
   "codemirror_mode": {
    "name": "ipython",
    "version": 3
   },
   "file_extension": ".py",
   "mimetype": "text/x-python",
   "name": "python",
   "nbconvert_exporter": "python",
   "pygments_lexer": "ipython3",
   "version": "3.8.8"
  }
 },
 "nbformat": 4,
 "nbformat_minor": 5
}
