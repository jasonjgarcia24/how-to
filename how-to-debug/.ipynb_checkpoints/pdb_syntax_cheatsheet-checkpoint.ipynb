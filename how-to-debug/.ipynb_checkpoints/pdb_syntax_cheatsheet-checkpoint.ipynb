{
 "cells": [
  {
   "cell_type": "markdown",
   "id": "debbb47e",
   "metadata": {},
   "source": [
    "## Pdb q( uit ):\n",
    "Quit from the debugger. The program being executed is aborted."
   ]
  },
  {
   "cell_type": "code",
   "execution_count": 3,
   "id": "7d4a05b7",
   "metadata": {},
   "outputs": [],
   "source": [
    "gh = 0                 #01\n",
    "breakpoint()           #02\n",
    "for i in [1, 2, 3, 4]: #03\n",
    "    gh = i             #04\n",
    "                       #05"
   ]
  },
  {
   "attachments": {},
   "cell_type": "markdown",
   "id": "d067d864",
   "metadata": {},
   "source": [
    "#### Output\n",
    "<img src=\"img/pdb_quit.png\" title=\"pdb q( uit )\" />"
   ]
  },
  {
   "cell_type": "markdown",
   "id": "4da51fd2",
   "metadata": {},
   "source": [
    "## Pdb s( tep )\n",
    "Execute the current line, stop at the first possible occasion (either in a function that is called or on the next line in the current function)."
   ]
  },
  {
   "cell_type": "code",
   "execution_count": 7,
   "id": "b564a350",
   "metadata": {},
   "outputs": [],
   "source": [
    "gh = 0                 #01\n",
    "breakpoint()           #02\n",
    "for i in [1, 2, 3, 4]: #03\n",
    "    gh = i             #04\n",
    "                       #05"
   ]
  }
 ],
 "metadata": {
  "kernelspec": {
   "display_name": "Python (dev)",
   "language": "python",
   "name": "dev"
  },
  "language_info": {
   "codemirror_mode": {
    "name": "ipython",
    "version": 3
   },
   "file_extension": ".py",
   "mimetype": "text/x-python",
   "name": "python",
   "nbconvert_exporter": "python",
   "pygments_lexer": "ipython3",
   "version": "3.7.10"
  }
 },
 "nbformat": 4,
 "nbformat_minor": 5
}
