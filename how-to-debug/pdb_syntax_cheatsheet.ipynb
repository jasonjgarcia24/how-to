{
 "cells": [
  {
   "cell_type": "markdown",
   "id": "c3e2816a",
   "metadata": {},
   "source": [
    "## Pdb q( uit )\n",
    "Quit from the debugger. The program being executed is aborted."
   ]
  },
  {
   "cell_type": "code",
   "execution_count": 1,
   "id": "4b53e464",
   "metadata": {},
   "outputs": [],
   "source": [
    "gh = 0                 #01\n",
    "breakpoint()           #02\n",
    "for i in [1, 2, 3, 4]: #03\n",
    "    gh = i             #04\n",
    "                       #05"
   ]
  },
  {
   "cell_type": "markdown",
   "id": "7cb53987",
   "metadata": {},
   "source": [
    "#### Output\n",
    "<img src=\"img/pdb_quit.png\" title=\"pdb q( uit )\" />"
   ]
  },
  {
   "cell_type": "markdown",
   "id": "36dbe392",
   "metadata": {},
   "source": [
    "## Pdb s( tep )\n",
    "Execute the current line, stop at the first possible occasion (either in a function that is called or on the next line in the current function)."
   ]
  },
  {
   "cell_type": "code",
   "execution_count": null,
   "id": "9d19bc4e",
   "metadata": {},
   "outputs": [],
   "source": [
    "gh = 0                 #01\n",
    "breakpoint()           #02\n",
    "for i in [1, 2, 3, 4]: #03\n",
    "    gh = i             #04\n",
    "                       #05"
   ]
  },
  {
   "cell_type": "markdown",
   "id": "570ac818",
   "metadata": {},
   "source": [
    "#### Output\n",
    "<img src=\"img/pdb_step.png\" title=\"pdb s( tep )\" />"
   ]
  },
  {
   "cell_type": "markdown",
   "id": "15f5e03b",
   "metadata": {},
   "source": [
    "## Pdb n( ext )\n",
    "Continue execution until the next line in the current function is reached or it returns. (The difference between <code>next</code> and <code>step</code> is that <code>step</code> stops inside a called function, while <code>next</code> executes called functions at (nearly) full speed, only stopping at the next line in the current function.)"
   ]
  },
  {
   "cell_type": "code",
   "execution_count": null,
   "id": "79fbdf07",
   "metadata": {},
   "outputs": [],
   "source": [
    "gh = 0                 #01\n",
    "breakpoint()           #02\n",
    "for i in [1, 2, 3, 4]: #03\n",
    "    gh = i             #04\n",
    "                       #05"
   ]
  },
  {
   "cell_type": "markdown",
   "id": "f64f463a",
   "metadata": {},
   "source": [
    "#### Output\n",
    "<img src=\"img/pdb_next.png\" title=\"pdb n( ext )\" />"
   ]
  },
  {
   "cell_type": "markdown",
   "id": "c9dfcc80",
   "metadata": {},
   "source": [
    "## Pdb c( ont( inue ) )\n",
    "Continue execution until the current function returns."
   ]
  },
  {
   "cell_type": "code",
   "execution_count": null,
   "id": "d14b7941",
   "metadata": {},
   "outputs": [],
   "source": [
    "gh = 0                 #01\n",
    "breakpoint()           #02\n",
    "for i in [1, 2, 3, 4]: #03\n",
    "    gh = i             #04\n",
    "                       #05"
   ]
  },
  {
   "cell_type": "markdown",
   "id": "049d0644",
   "metadata": {},
   "source": [
    "#### Output\n",
    "<img src=\"img/pdb_continue.png\" title=\"pdb c( ont( inue ) )\" />"
   ]
  },
  {
   "cell_type": "markdown",
   "id": "5c69d44f",
   "metadata": {},
   "source": [
    "## Pdb unt( il ) [lineno]\n",
    "Without arguement, continue execution until the line with a number greater than the current one is reached.<br><br>\n",
    "With a line number, continue execution until a line with a number greater or equal to that is reached. In both cases, also stop when the current frame returns.<br><br>"
   ]
  },
  {
   "cell_type": "code",
   "execution_count": null,
   "id": "3814b996",
   "metadata": {
    "scrolled": false
   },
   "outputs": [],
   "source": [
    "gh = 0                 #01\n",
    "breakpoint()           #02\n",
    "for i in [1, 2, 3, 4]: #03\n",
    "    gh = i             #04\n",
    "                       #05\n"
   ]
  },
  {
   "cell_type": "markdown",
   "id": "f2b15fc2",
   "metadata": {},
   "source": [
    "#### Output (without argument)\n",
    "<img src=\"img/pdb_until_without_argument.png\" title=\"pdb unt( il )\" />"
   ]
  },
  {
   "cell_type": "markdown",
   "id": "092359cf",
   "metadata": {},
   "source": [
    "#### Output (with argument)\n",
    "Acts like step and stops at the next line number greater than the lineo argument. So in this case, stops inside interactiveshell.py(3349)\n",
    "<img src=\"img/pdb_until_with_argument.png\" title=\"pdb unt( il ) [lineno]\" />"
   ]
  },
  {
   "cell_type": "markdown",
   "id": "ab3b883e",
   "metadata": {},
   "source": [
    "## Pdb b( reak ) [([filename:]lineno | function) [, condition]]\n",
    "With *lineno* argument, set a break there in the current file. With a *function* argument, set a break at the first executable statement within that function. The line number may be prefixed with a filename and a colon, to specify a breakpoint in another file (probably one that hasn't been loaded yet). The file is searched on sys.path. Note that each breakpoint is assigned a number to which all the other breakpoint commands refer.<br><br>\n",
    "If a second argument is present, it is an expression which must evaluate to true before the breakpoint is honored.<br><br>\n",
    "Without arguement, list all breaks, including for each breakpoint, the number of times that breakpoint has been hit, the current ignore count, and the associated condition if any."
   ]
  },
  {
   "cell_type": "code",
   "execution_count": 14,
   "id": "64324903",
   "metadata": {},
   "outputs": [],
   "source": [
    "def print_x(x):\n",
    "    print(x)\n"
   ]
  },
  {
   "cell_type": "code",
   "execution_count": 22,
   "id": "ccb84cb4",
   "metadata": {},
   "outputs": [
    {
     "name": "stdout",
     "output_type": "stream",
     "text": [
      "1\n",
      "2\n",
      "3\n",
      "4\n"
     ]
    }
   ],
   "source": [
    "gh = 0                 #01\n",
    "breakpoint()           #02\n",
    "for i in [1, 2, 3, 4]: #03\n",
    "    gh = i             #04\n",
    "    print_x(gh)        #05\n",
    "                       #06"
   ]
  },
  {
   "cell_type": "markdown",
   "id": "915d359d",
   "metadata": {},
   "source": [
    "#### Output (with lineno only)\n",
    "<img src=\"img/pdb_break_with_lineno_only.png\" title=\"pdb b( reak ) [lineno]\" />"
   ]
  },
  {
   "cell_type": "markdown",
   "id": "ebe727c3",
   "metadata": {},
   "source": [
    "#### Output (with lineno and condition)\n",
    "<img src=\"img/pdb_break_with_lineno_and_condition.png\" title=\"pdb b( reak ) [lineno, condition]\" />"
   ]
  },
  {
   "cell_type": "markdown",
   "id": "32daf728",
   "metadata": {},
   "source": [
    "#### Output (with function only)\n",
    "<img src=\"img/pdb_break_with_function_only.png\" title=\"pdb b( reak ) [function]\" />"
   ]
  },
  {
   "cell_type": "markdown",
   "id": "fb2f8e89",
   "metadata": {},
   "source": [
    "#### Output (with function and condition)\n",
    "<img src=\"img/pdb_break_with_function_and_condition.png\" title=\"pdb b( reak ) [function, condition]\" />"
   ]
  },
  {
   "cell_type": "markdown",
   "id": "be34d4ef",
   "metadata": {},
   "source": [
    "## Pdb tbreak [([filename:]lineno | function) [, condition]]\n",
    "Same as break, except a **temporary** breakpoint, which is removed automatically when it is first hit."
   ]
  },
  {
   "cell_type": "markdown",
   "id": "9dc34f98",
   "metadata": {},
   "source": [
    "## Pdb cl( ear ) [filename:lineno | bpnumber ...]\n",
    "With a *filename:lineno* argument, clear all the breakpoints at this line. With a space separated list of breakpoint numbers, clear those breakpoints. Without agrument, clear all breakpoints (but first ask confirmation [y/n])."
   ]
  },
  {
   "cell_type": "code",
   "execution_count": 31,
   "id": "7e011149",
   "metadata": {},
   "outputs": [],
   "source": [
    "def print_x(x):\n",
    "    print(x)\n"
   ]
  },
  {
   "cell_type": "code",
   "execution_count": 32,
   "id": "1ddd2762",
   "metadata": {},
   "outputs": [
    {
     "name": "stdout",
     "output_type": "stream",
     "text": [
      "1\n",
      "2\n",
      "3\n",
      "4\n"
     ]
    }
   ],
   "source": [
    "gh = 0                 #01\n",
    "breakpoint()           #02\n",
    "for i in [1, 2, 3, 4]: #03\n",
    "    gh = i             #04\n",
    "    print_x(gh)        #05\n",
    "                       #06"
   ]
  },
  {
   "cell_type": "markdown",
   "id": "2dfcb33d",
   "metadata": {},
   "source": [
    "#### Output\n",
    "<img src=\"img/pdb_clear.png\" title=\"pdb cl( ear ) [filename:lineno | bpnumber ...]\" />"
   ]
  }
 ],
 "metadata": {
  "kernelspec": {
   "display_name": "Python (dev)",
   "language": "python",
   "name": "dev"
  },
  "language_info": {
   "codemirror_mode": {
    "name": "ipython",
    "version": 3
   },
   "file_extension": ".py",
   "mimetype": "text/x-python",
   "name": "python",
   "nbconvert_exporter": "python",
   "pygments_lexer": "ipython3",
   "version": "3.8.8"
  }
 },
 "nbformat": 4,
 "nbformat_minor": 5
}
