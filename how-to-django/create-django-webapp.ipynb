{
 "cells": [
  {
   "cell_type": "markdown",
   "metadata": {},
   "source": [
    "# <a id=\"Top-of-Page\">How-To Create a Django Project and WebApp</a>\n",
    "***"
   ]
  },
  {
   "cell_type": "markdown",
   "metadata": {},
   "source": [
    "### <a id=\"Contents\">Contents:</a>\n",
    "[Initialize the Project](#intitialize-neighborly-project)<br>\n",
    "[Create a WebApp](#create-stats-interact-app)<br>\n",
    "[Create a Template](#create-template)<br>\n",
    "[Create a View Function](#create-view-function)<br>\n",
    "[Wire Up View](#write-up-view)<br>\n",
    "[Send Context to the Template](#sending-context-to-template)<br>\n",
    "[Bottom of Page](#Bottom-of-Page)<br><br>\n",
    "***"
   ]
  },
  {
   "cell_type": "markdown",
   "metadata": {},
   "source": [
    "## Initialize the Neighborly Project <a id=\"intitialize-neighborly-project\"/>\n",
    "1. In the terminal create a Django project named **neighborly** by running the terminal command:<br>\n",
    "<code>django-admin startproject neighborly</code>.<br><br>\n",
    "\n",
    "2. Now that the Django project is created, we should see the Django project files in the file explorer as shown in the image below:<br><br>\n",
    "<img src=\"img/start-neighborly-project.png\" title=\"Start neighborly Django project\"><br>\n",
    "Change the current working directory in the terminal into the neighborly project folder by running the following terminal command:<br>\n",
    "<code>cd neighborly</code><br><br>\n",
    "To remove any errors from the server, run a migration to configure the database used by the default apps using the terminal command:<br>\n",
    "<code>python manage.py migrate</code><br><br>\n",
    "<img src=\"img/migrate-to-configure-database.png\" title=\"Migrate to configure database\"><br>\n",
    "3. Now that the project is created and configured, we can test if there were any errors while creating the Django project.<br><br>\n",
    "Start the development server by running the terminal command:<br>\n",
    "<code>python manage.py runserver</code><br>\n",
    "4. After the server is started, navigate to <code>localhost</code> in the browser, and you should see a default splash page from Django. Then stop the development server using <button name=\"button\" onclick=\"\">ctrl</button> + <button name=\"button\" onclick=\"\">C</button>.<br><br>\n",
    "<img src=\"img/start-dev-server.png\" title=\"Start development server\"><br>\n",
    "***"
   ]
  },
  {
   "cell_type": "markdown",
   "metadata": {},
   "source": [
    "## Create the Stats Interact App <a id=\"create-stats-interact-app\"/>\n",
    "5. Next, we want to create a new app named **stats_interact**.<br><br>\n",
    "Use Django's <code>startapp</code> command with the <code>manage.py</code> script and create an app named **stats_interact** with the following terminal command:<br>\n",
    "<code>python manage.py startapp stats_interact</code><br><br>\n",
    "<img src=\"img/start-stats-interact-app.png\" title=\"Start stats_interact app\"><br>\n",
    "6. The <code>startapp</code> command will create files and folders for the new app. We'll have to add our new app, **stats_interact** to our list of installed apps for our Django project to be aware of it.<br><br>\n",
    "In the code editor, open up **settings.py** inside **neighborly/neighborly**. Find the list named <code>INSTALLED_APPS</code> and add the config file for **stats_interact** by including <code>\"stats_interact.apps.StatsInteractConfig\"</code> to the list.<br><br>\n",
    "<img src=\"img/add-stats-interact-config-to-project-settings.png\" title=\"Add stats-interact config to project settings\"><br>\n",
    "***"
   ]
  },
  {
   "cell_type": "markdown",
   "metadata": {},
   "source": [
    "##  Create a Template <a id=\"create-template\"/>\n",
    "7. Our **stats_interact** app is now fully installed!<br><br>\n",
    "To see a base page in the browser, we'll create an HTML template file that will be used to display our fortune in the browser. First, we will create the template directiories to namespace the template.<br><br>\n",
    "Inside the project app directory, **stats_interact/**, create a folder named **templates**. Next, within the newly created, **templates/**, create a folder named **stats_interact** to namespace our template file.<br><br>\n",
    "The resulting structure should look like the image below:<br><br>\n",
    "<img src=\"img/template-folder-structure-creation.png\" title=\"Template folder structure creation\"><br><br>\n",
    "8. Now we can create the actual file we will send to the client.<br><br>\n",
    "Within the namespaced template folder, create an HTML file named **stats.html**. The new file will contain some markup to format our message. Paste in the following HTML which has some placeholder in the text which will allow us to see text in the browser:<br>\n",
    "<code>\n",
    "    &lt;!DOCTYPE html&gt;\n",
    "    &lt;html lang=\"en\"&gt;\n",
    "        &lt;head&gt;\n",
    "            &lt;title&gt;Django Stats Interact&lt;/title&gt;\n",
    "            &lt;style&gt;\n",
    "                body {\n",
    "                    text-align: center;\n",
    "                }\n",
    "            &lt;/style&gt;\n",
    "        &lt;/head&gt;\n",
    "        &lt;body&gt;\n",
    "            &lt;h1&gt;Hello there :)&lt;/h1&gt;\n",
    "            &lt;p&gt;Place holder for data&lt;/p&gt;\n",
    "        &lt;/body&gt;\n",
    "    &lt;/html&gt;\n",
    "</code><br>\n",
    "\n",
    "The provided HTML contains some boilerplate HTML structure and some barebones CSS. Inside the <code>&lt;body&gt;</code> tags, there is a placeholder text that we will soon replace with data.<br><br>\n",
    "We'll now have to write the view functions and the URLconfig before we can see this HTML.<br><br>\n",
    "***"
   ]
  },
  {
   "cell_type": "markdown",
   "metadata": {},
   "source": [
    "## Create a View Function <a id=\"create-view-function\"/>\n",
    "9. To send **stats.html** to our client, we'll write a view function and send it when the page is requested.<br><br>\n",
    "Inside the **stats_interact** app, open **views.py**. Define a new function named <code>stats()</code> that takes a single parameter, <code>request</code>. In <code>stats()</code>, return the render function with two arguments, the <code>request</code> and the path to **stats.html** as a string <code>\"stats_interact/stats.html\"</code>.<br><br>\n",
    "<img src=\"img/create-view-function.png\" title=\"Create view function\"><br>\n",
    "***"
   ]
  },
  {
   "cell_type": "markdown",
   "metadata": {},
   "source": [
    "## Wire Up View <a id=\"write-up-view\"/>\n",
    "10. Our <code>stats()</code> view function sends back **stats.html** when called. We'll need to tell Django which URL we want to direct to this function to.<br><br>\n",
    "First, create the URLconf for the **stats_interact** app by creating a file named **urls.py** inside the app directory (**neighborly/stats_interact/urls.py**).<br><br>\n",
    "11. Inside the **urls.py**, we'll need to import a couple of things to call the view function when the URL is requested.<br><br>\n",
    "At the top of **urls.py** import:<br>\n",
    " - <code>path</code> module from <code>django.urls</code>\n",
    " - the functions from **views.py**<br><br>\n",
    "<img src=\"img/urls-imports-to-call-view-function-upon-url-request.png\" title=\"URL imports to call view function upon URL request\"><br>\n",
    "12. After importing the necessary modules into **urls.py**, create a list of patterns for Django to match URLs against. Create a list called <code>urlpatterns</code> and set it as a blank list.<br><br>\n",
    "13. Inside the list, add a routine to the <code>stats()</code> function using the <code>path()</code> function.<br><br>\n",
    "Since we want to have our stats base page appear, provide an empty string <code>\"\"</code> as the first argument to <code>path()</code>. Pass the view function <code>stats()</code> as the second argument.<br><br>\n",
    "<img src=\"img/create-urlpatterns.png\" title=\"Add routine to the stats() function using the path() function\"><br>\n",
    "14. Now that our app's URLconfig is set, we have to import it in the project's URLconfig for the URLs to be picked up by the Django project. We'll have to import the <code>include</code> module to include the URL configuration file.<br><br>\n",
    "Inside **neighborly/neighborly/urls.py**, import the <code>include</code> module from <code>django.urls</code>.<br><br>\n",
    "<img src=\"img/import-include-for-app-urlconfig.png\" title=\"Import include for importing app's URLconfig into project's URLconfig for the URLs to be picked up by Django project\"><br><br>\n",
    "15. Now that we've imported <code>include</code>, now we have to make use of it.<br><br>\n",
    "In the existing <code>urlpatterns</code> list, add another <code>path()</code> with the arguments:<br>\n",
    " - <code>\"\"</code> to reference the home page\n",
    " - <code>include()</code> with **stats_interact**'s URLs as a string.<br><br>\n",
    "\n",
    "    <code>cd</code> into the root directory to start the development server again with <code>python manage.py runserver</code> and when you refresh your browser you should see **stats.html**.<br><br>\n",
    "<img src=\"img/import-apps-urlconfig-to-projects-urlconfig.png\" title=\"Import app's URLconfig into project's URLconfig\"><br>\n",
    "<img src=\"img/base-stats-html-page.png\" title=\"Base stats.html page\"><br>\n",
    "***"
   ]
  },
  {
   "cell_type": "markdown",
   "metadata": {},
   "source": [
    "## Sending a Context to the Template <a id=\"sending-context-to-template\"/>\n",
    "16. Our static **stats.html** is sent whenever the page <code>localhost</code> is requested. Now, we want to replace the text with a new message every time we load the page.<br><br>\n",
    "First, start by creating a list of phrases named <code>phrasesList</code> inside our app's **views.py** file. Define it outside of the <code>stats()</code> function.<br><br>\n",
    "Add some strings containing phrases in the <code>phrasesList</code>.<br>\n",
    "<img src=\"img/new-message-list.png\" title=\"New message list for page reloads.\"><br><br>\n",
    "17. To select the random phrase from the list, we'll use the built-in Python function <code>random.choice()</code>.<br><br>\n",
    "Import the <code>random</code> module at the top of **views.py**. Then inside the <code>stats()</code> function create a variable named <code>phrase<code> and set it equal to <code>random.choice(phrasesList)</code>.<br><br>\n",
    "18. To send the random phrase to the HTML template, we'll create a context variable to send with the template.<br><br>\n",
    "Below where we set <code>phrase</code>, create a dictionary named <code>context</code>. In the dictionary, create a key named <code>\"phrase\"</code> and set <code>phrase</code> as the value.<br><br>\n",
    "19. Now add our newly created <code>context</code> as the third argument to the <code>render()</code> function that <code>stats()</code> returns.<br><br>\n",
    "<img src=\"img/supply-context-to-template.png\" title=\"Supply a context to the template\"><br>\n",
    "20. The last step to render the fortune in the template is to use the Django template language to replace the placeholder text. Inside **stats.html**, between the <code>&ltp&gt&lt/p&gt</code> tags, replace the text with <code>{{ phrase }}</code>.<br>\n",
    "<img src=\"img/replace-placeholder-text-with-django-template-language.png\" title=\"Replace placeholder text in HTML with Django template language (DTL)\"><br><br>\n",
    "An example of the output is shown below:<br>\n",
    "<img src=\"img/context-to-template.png\" title=\"Providing context to HTML template via DTL\"><br>\n",
    "***"
   ]
  },
  {
   "cell_type": "markdown",
   "metadata": {},
   "source": [
    "[Top of Page](#Top-of-Page)<br>\n",
    "[Initialize the Neighborly Project](#intitialize-neighborly-project)<br>\n",
    "[Create the Stats Interact App](#create-stats-interact-app)<br>\n",
    "[Create a Template](#create-template)<br>\n",
    "[Create a View Function](#create-view-function)<br>\n",
    "[Wire Up View](#write-up-view)<br>\n",
    "[Sending a Context to the Template](#sending-context-to-template)<br>\n",
    "<a id=\"Bottom-of-Page\"></a>"
   ]
  }
 ],
 "metadata": {
  "kernelspec": {
   "display_name": "Python (dev)",
   "language": "python",
   "name": "dev"
  },
  "language_info": {
   "codemirror_mode": {
    "name": "ipython",
    "version": 3
   },
   "file_extension": ".py",
   "mimetype": "text/x-python",
   "name": "python",
   "nbconvert_exporter": "python",
   "pygments_lexer": "ipython3",
   "version": "3.8.12"
  }
 },
 "nbformat": 4,
 "nbformat_minor": 5
}
