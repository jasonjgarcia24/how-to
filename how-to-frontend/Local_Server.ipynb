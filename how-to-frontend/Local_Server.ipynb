{
 "cells": [
  {
   "cell_type": "markdown",
   "id": "a2d776f3",
   "metadata": {},
   "source": [
    "# Run Local Server"
   ]
  },
  {
   "cell_type": "markdown",
   "id": "a3267408",
   "metadata": {},
   "source": [
    "    npm install -g http-server\n",
    "    http-server -c-1 -p 8080  <=== Clears out cache to allow page updating"
   ]
  }
 ],
 "metadata": {
  "kernelspec": {
   "display_name": "Python (dev)",
   "language": "python",
   "name": "dev"
  },
  "language_info": {
   "codemirror_mode": {
    "name": "ipython",
    "version": 3
   },
   "file_extension": ".py",
   "mimetype": "text/x-python",
   "name": "python",
   "nbconvert_exporter": "python",
   "pygments_lexer": "ipython3",
   "version": "3.8.12"
  }
 },
 "nbformat": 4,
 "nbformat_minor": 5
}
