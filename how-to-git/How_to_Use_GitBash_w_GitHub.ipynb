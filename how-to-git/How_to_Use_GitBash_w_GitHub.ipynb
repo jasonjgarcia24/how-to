{
 "cells": [
  {
   "cell_type": "markdown",
   "metadata": {},
   "source": [
    "# How to Use Git Bash with Git Hub<a id=\"Top-of-Page\"></a>\n",
    "##### Step-by-Step Fundamentals\n",
    "***\n",
    "<a id=\"Contents\"></a>\n",
    "### Cotents:\n",
    "[1. Create Remote Repository on GitHub](#Create-Repo)<br>\n",
    "[2. Clone Repository Locally with SSH](#Clone-Repo)<br>\n",
    "[3. Commit and Push Repository Changes to GitHub](#Commit-Push-Changes-to-GitHub)<br>\n",
    "[4. Commit to Alternative Branch on GitHub](#Commit-To-Alt-Branch)<br>\n",
    "[References](#References)<br>\n",
    "[Bottom of Page](#Bottom-of-Page)<br>\n",
    "***"
   ]
  },
  {
   "cell_type": "markdown",
   "metadata": {},
   "source": [
    "### 1. Create Remote Repository on GitHub:<a id=\"Create-Repo\"></a>\n",
    " - Go to <a href=\"https://github.com/\">github.com</a>\n",
    " - In the 'Repositories panel, select `New`.<br>\n",
    " \n",
    "<img src=\".\\img\\NewRepo-GitHub.png\" title=\"github.com\" /><br>\n",
    " - Fill out the repo name and description.\n",
    " - Check `Add a README file` and if needed `Add .gitignore`.\n",
    "   - A '.gitignore' file allows you to populate filenames and file extensions that you do not wish to be included in your commits to the repository.\n",
    "   - A common use for this file is to prevent config files that have api keys or passwords stored in them from making their way into your repository.\n",
    "   -'.gitignore' files come prepopulated with certain files and extension names specific to your programming language, but can be customized to fit your needs.\n",
    " - Apply the settings shown in the below image for a standard public repo and click `Create repository`.<br>\n",
    " \n",
    "<img src=\"img\\NewRepoSettings-GitHub.png\" title=\"Create a new repository\" /><br>\n",
    " - Now you should have a blank repo.<br>\n",
    " \n",
    "<img src=\"img\\NewRepoBlank-GitHub.png\" title=\"New repository\" /><br>\n",
    "[Top of Page](#Top-of-Page)---[Contents](#Contents)---[Bottom of Page](#Bottom-of-Page)<br>\n",
    "***"
   ]
  },
  {
   "cell_type": "markdown",
   "metadata": {},
   "source": [
    "### 2. Create Local Repository and Sync with GitHub<a id=\"Create-Local-Repo\"></a>\n",
    "  - Create local folder, with <code>mkdir &lt;folder_name&gt;</code>, for local repo to reside and navigate into it with <code>cd &lt;folder_name&gt;</code>.\n",
    "  \n",
    "<img src=\"img\\NewRepo-Bash-CreateFolder.png\" alt=\"Create new folder with mkdir\" /><br>\n",
    "  - Initialize an empty local Git repo with <code>git init</code>.\n",
    "  \n",
    "<img src=\"img\\NewRepo-Bash-InitRepo.png\" alt=\"Initialize new local Git repo\" /><br>\n",
    "  - If needed, change name of default branch.\n",
    "    - In the below example, this change is implemented from a default branch name of <code>master</code> to <code>main</code> with <code>git branch -m master main</code>.\n",
    "  \n",
    "<img src=\"img\\NewRepo-Bash-ChangeBranchname.png\" alt=\"Change name of default branch\" /><br>\n",
    "  - Create a readme.md (or other file), shown below with <code>touch readme.md</code>.\n",
    "  \n",
    "<img src=\"img\\NewRepo-Bash-CreateSomeFiles.png\" alt=\"Create file contents for local repo\" /><br>\n",
    "  - Add and commit local changes to local Git repo with the following:\n",
    "    1. <code>git add -A</code>\n",
    "    2. <code>git commit -m \"Some descriptive text here...\"</code>\n",
    "  \n",
    "<img src=\"img\\NewRepo-Bash-AddAndCommit.png\" alt=\"Add and commit local changes to local repo\" /><br>\n",
    "  - Create matching <strong>remote</strong> repo.\n",
    "    - Navigate to <a href=\"https://github.com/\" target=\"_blank\">https://github.com/</a>, and select the \"New\" button shown below for creating a new repo.\n",
    "    - Create an empty <strong>remote</strong> repository with no files and the same name as the <strong>local</strong> repo, for this example it is \"portfolio-jasonjgarcia\".\n",
    "    \n",
    "<img src=\"img\\NewRepo-Bash-SelectNewRemoteRepo.png\" alt=\"Select new remote repo\" /><br>\n",
    "<img src=\"img\\NewRepo-Bash-CreateGitHubRepo.png\" alt=\"Create empty GitHub repo\" /><br>\n",
    "  - Add the <strong>remote</strong> GitHub repo to your <strong>local<strong> repo with <code>git remote add origin git@github.com:&lt;user_name&gt;/&lt;remote_repo_name&gt;</code> (in this case, &lt;user_name&gt; is \"jasonjgarcia24\" and &lt;remote_repo_name&gt; is \"portfolio-jasonjgarcia\").\n",
    "    \n",
    "<img src=\"img\\NewRepo-Bash-RemoteAdd.png\" alt=\"Sync remote repo to local\" /><br>\n",
    "  - Finally, push local repo contents to remote GitHub repo with <code>git push -u origin main</code>.\n",
    "    \n",
    "<img src=\"img\\NewRepo-Bash-PushLocal.png\" alt=\"Push local changes to remote\" /><br><br>\n",
    "    \n",
    "##### Summary of GitBash entries:\n",
    "<img src=\"img\\NewRepo-Bash-TotalEntries.png\" alt=\"Total GitBash entries\" /><br>"
   ]
  },
  {
   "cell_type": "markdown",
   "metadata": {},
   "source": [
    "### 3. Clone Repository Locally with SSH:<a id=\"Clone-Repo\"></a>\n",
    " - Copy your GitHub address for SSH cloning.<br>\n",
    " \n",
    "<img src=\"img\\GetAddressForClone-GitHub.png\" title=\"GitHub address for SSH cloning\" /><br>\n",
    " - In Bash type `git clone <address>`.\n",
    "   - In this case, `<address>` is 'git@github.com:jasonjgarcia24/fintech-challenges.git')\n",
    "   - If the note \"The authenticity of host 'github.com'... can't be established.... Are you sure you want to continue connecting (yes/no)?\", type `yes`.\n",
    " - Now you have your local repository and can apply changes as needed locally only.<br>\n",
    " \n",
    "<img src=\"img\\CloneRepo-GitHub-Windows.png\" title=\"Repo cloning\" /><br>\n",
    "[Top of Page](#Top-of-Page)---[Contents](#Contents)---[Bottom of Page](#Bottom-of-Page)<br>\n",
    "***"
   ]
  },
  {
   "cell_type": "markdown",
   "metadata": {},
   "source": [
    "### 4. Commit and Push Repository Changes to GitHub:<a id=\"Commit-Push-Changes-to-GitHub\"></a>\n",
    " - In Bash type `cd fintech-challenges` to enter into the 'fintech-challenges' repository.\n",
    " - Apply changes to the repo as necessary.\n",
    " - In Bash type `git add -A` to stage the changes to the Git repository.\n",
    "   - This is telling the Git application to add any changes to the staging area, and the `-A` means I want to add all the files in this repository.<br>\n",
    "\n",
    "<img src=\"img\\AddChangesRepo-GitHub-Windows.png\" title=\"Add changes to the staging area\" /><br>\n",
    " - In Bash type `git commit -m \"<message>\"` to commit changes to your remote git. Now you're ready to push the changes.\n",
    "   - In this case, `<message>` is 'First commit of challenge 01.')\n",
    "   - Use `-m <message>` to type in a commit message. This message is a descriptive message to document a description of the changes.\n",
    " - In Bash type `git push origin main` to push changes to the 'main' GitHub branch.<br>\n",
    "\n",
    "<img src=\"img\\PushChangesRepo-GitHub-Windows.png\" title=\"Push changes to GitHub\" /><br>\n",
    " - You can now go to your remote repository on <a href=\"https://github.com/\">github.com</a>, hit refresh, and view the updated repository with the changes applied.<br>\n",
    "\n",
    "<img src=\"img\\SuccessfulPushToMain-GitHub-Windows.png\" title=\"Updated GitHub repository\" /><br>\n",
    "[Top of Page](#Top-of-Page)---[Contents](#Contents)---[Bottom of Page](#Bottom-of-Page)<br>\n",
    "***"
   ]
  },
  {
   "cell_type": "markdown",
   "metadata": {},
   "source": [
    "### 5. Commit to Alternative Branch on GitHub:<a id=\"Commit-To-Alt-Branch\"></a>\n",
    " - In Bash type `git checkout -b <new branch name>`.\n",
    "   - The -b means that you will create a new branch that doesn't already exist.\n",
    "   - In this case, `<new branch name>` will be '01-challenge'.\n",
    "   - Notice also that the branch name in Bash will change from '(main)' to '(01-challenge)'.\n",
    " - Apply changes to the repo as necessary.\n",
    " - In Bash type `git add -A` to stage the changes to the Git repository.\n",
    "   - This is telling the Git application to add any changes to the staging area, and the `-A` means I want to add all the files in this repository.<br>\n",
    " - In Bash type `git commit -m \"<message>\"` to commit changes to your remote git. Now you're ready to push the changes.\n",
    "   - In this case, `<message>` is 'First commit of challenge 01.')\n",
    "   - Use `-m <message>` to type in a commit message. This message is a descriptive message to document a description of the changes.\n",
    " - In Bash type `git push origin 01-challenge` to push changes to the '01-challenge' GitHub branch.<br>\n",
    "\n",
    "<img src=\"img\\SuccessfulPushToAltBranch-GitHub-Windows.png\" title=\"Push changes to GitHub\" /><br>\n",
    " - You can now go to <a href=\"https://github.com/\">github.com</a> and hit refresh. You'll notice the 'main' repository has not been updated but that there is now an additional branch.<br>\n",
    "\n",
    "<img src=\"img\\NewBranch-GitHub-Windows.png\" title=\"Updated GitHub branch\" /><br>\n",
    " - In the dropdown menu next to the number of branches, switch to your new branch (in this case '1-challenge').\n",
    " - In the '01-challenge' branch page, click on `Compare & pull request`.<br>\n",
    "\n",
    "<img src=\"img\\NewBranchPage-GitHub-Windows.png\" title=\"New GitHub branch page\" /><br>\n",
    " - Now you've opened a new \"pull request\" page.\n",
    "   - Notice the comment for this branch is the same as what was entered in the Bash window with the `git commit -m \"<message>\"` command.<br>\n",
    "\n",
    "<img src=\"img\\NewBranchPullRequest-GitHub-Windows.png\" title=\"New GitHub branch page\" /><br>\n",
    " - Click `Create pull request`.\n",
    " - Since this repo is all yours, you can just merge this pull request right into 'main' by clicking `Merge pull request` and then `Confirm merge`.<br>\n",
    "\n",
    "<img src=\"img\\NewBranchMerge-GitHub-Windows.png\" title=\"Merge new GitHub branch\" /><br>\n",
    " - You should now see some form of the message 'Pull request successfully merged and closed'. You can now leave the branch or delete it, it's your preference.\n",
    " - Navigate back to the repo's homepage and you can see your alternative branches merged file(s) have been added to the 'main' branch.<br>\n",
    "\n",
    "<img src=\"img\\SuccessfulNewBranchMerge-GitHub-Windows.png\" title=\"Successful merge of new branch to remote repo on GitHub\" /><br>\n",
    "[Top of Page](#Top-of-Page)---[Contents](#Contents)---[Bottom of Page](#Bottom-of-Page)<br>\n",
    "***"
   ]
  },
  {
   "cell_type": "markdown",
   "metadata": {},
   "source": [
    "### References:<a id=\"References\"></a>\n",
    "\n",
    " - <a href=\"https://www.youtube.com/channel/UC2SYjKBTEOCtLEjVC6ixISw/featured\">The Boot Camp</a>, \"Git and GitHub\" <i>YouTube</i>, commentary by GitHub user <a href=\"https://github.com/hannahpatellis\">hannahpatellis</a>, 19 Jan. 2019, https://youtu.be/seICQOd2qsY.<br><br>\n",
    "</div>\n",
    "***"
   ]
  },
  {
   "cell_type": "markdown",
   "metadata": {},
   "source": [
    "<a id=\"Bottom-of-Page\"></a>\n",
    "[Top of Page](#Top-of-Page)<br>\n",
    "[Contents](#Contents)<br>\n",
    "[1. Create Remote Repository on GitHub](#Create-Repo)<br>\n",
    "[2. Create Local Repository and Sync with GitHub](#Create-Local-Repo)<br>\n",
    "[3. Clone Repository with SSH](#Clone-Repo)<br>\n",
    "[4. Commit and Push Repository Changes to GitHub](#Commit-Push-Changes-to-GitHub)<br>\n",
    "[5. Commit to Alternative Branch on GitHub](#Commit-To-Alt-Branch)<br>\n",
    "[References](#References)"
   ]
  }
 ],
 "metadata": {
  "kernelspec": {
   "display_name": "Python 3 (ipykernel)",
   "language": "python",
   "name": "python3"
  },
  "language_info": {
   "codemirror_mode": {
    "name": "ipython",
    "version": 3
   },
   "file_extension": ".py",
   "mimetype": "text/x-python",
   "name": "python",
   "nbconvert_exporter": "python",
   "pygments_lexer": "ipython3",
   "version": "3.10.7"
  }
 },
 "nbformat": 4,
 "nbformat_minor": 2
}
