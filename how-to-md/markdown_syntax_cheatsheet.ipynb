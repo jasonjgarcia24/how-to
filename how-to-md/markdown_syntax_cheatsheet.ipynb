{
 "cells": [
  {
   "cell_type": "markdown",
   "metadata": {},
   "source": [
    "# Cheat Sheet / Examples\n",
    " - Internal jump-to link: [1. Create Remote Repository on GitHub](#Create-Repo)<br>\n",
    " - Internal link: <a id=\"Create-Repo\">1. Create Remote Repository on GitHub</a>\n",
    " - Internal link with code: [<code>git clone &ltaddress&gt</code>](#git-clone)\n",
    " - Internal link with header: ## <a id=\"Create-Repo\">1. Create Remote Repository on GitHub</a>\n",
    " - External link: <a href=\"https://github.com/\">github.com</a>\n",
    " - Image: <img src=\"img/Verify-SSHKeyConnection-Windows.png\" title=\"github.com\" />"
   ]
  },
  {
   "cell_type": "markdown",
   "metadata": {},
   "source": [
    "# Title<a id=\"Top-of-Page\">\n",
    "***\n",
    "### <br>Contents<a id=\"Contents\">\n",
    "[Paragraph 1](#Paragraph-1)<br>\n",
    "[Paragraph 2](#Paragraph-2)<br>\n",
    "[Bottom of Page](#Bottom-of-Page)<br>\n",
    "\n",
    "***\n",
    "## <br>Paragraph 1<a id=\"Paragraph-1\">\n",
    "Some text here...<br>\n",
    "\n",
    "## Paragraph 2<a id=\"Paragraph-2\">\n",
    "Some more text here...<br>\n",
    "***\n",
    "<br>[Top of Page](#Top-of-Page)<br>\n",
    "[Contents](#Contents)<br>\n",
    "[Paragraph 1](#Paragraph-1)<br>\n",
    "[Paragraph 2](#Paragraph-2)<br>\n",
    "<a id=\"Bottom-of-Page\"></a>"
   ]
  },
  {
   "cell_type": "markdown",
   "metadata": {},
   "source": [
    "# Equations\n",
    "#### Simple\n",
    "<b><center>$N_p$</center></b><br><br>\n",
    "#### Moderate\n",
    "\\begin{equation*}\n",
    "\\mathbf{\\sigma_p} =\n",
    "\\sigma \\times \\sqrt{N_p}\n",
    "\\end{equation*}<br><br>\n",
    "#### Complex\n",
    "\\begin{equation*}\n",
    "\\mathbf{\\sigma_p} =\n",
    "\\sqrt{\\sum{\\frac{|x - \\mu|^2}{N}}}\n",
    "\\times\n",
    "\\sqrt{\\sigma_p} =\n",
    "\\sqrt{\\sum{\\frac{|x - \\mu|^2}{N \\times N_p}}}\n",
    "\\end{equation*}<br>"
   ]
  },
  {
   "cell_type": "markdown",
   "metadata": {},
   "source": [
    "## Emojis"
   ]
  },
  {
   "cell_type": "code",
   "execution_count": 1,
   "metadata": {},
   "outputs": [
    {
     "name": "stdout",
     "output_type": "stream",
     "text": [
      "😎\n"
     ]
    }
   ],
   "source": [
    "import emoji\n",
    "print(emoji.emojize(\":smiling_face_with_sunglasses:\"))"
   ]
  },
  {
   "cell_type": "markdown",
   "metadata": {},
   "source": [
    "### Workspace Width"
   ]
  },
  {
   "cell_type": "code",
   "execution_count": null,
   "metadata": {},
   "outputs": [],
   "source": []
  }
 ],
 "metadata": {
  "kernelspec": {
   "display_name": "Python 3 (ipykernel)",
   "language": "python",
   "name": "python3"
  },
  "language_info": {
   "codemirror_mode": {
    "name": "ipython",
    "version": 3
   },
   "file_extension": ".py",
   "mimetype": "text/x-python",
   "name": "python",
   "nbconvert_exporter": "python",
   "pygments_lexer": "ipython3",
   "version": "3.8.12"
  }
 },
 "nbformat": 4,
 "nbformat_minor": 4
}
