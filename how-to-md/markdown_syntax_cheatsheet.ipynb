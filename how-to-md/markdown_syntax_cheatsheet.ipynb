{
 "cells": [
  {
   "cell_type": "markdown",
   "metadata": {},
   "source": [
    "# Cheat Sheet / Examples\n",
    " - Internal jump-to link: [1. Create Remote Repository on GitHub](#Create-Repo)<br>\n",
    " - Internal link: <a id=\"Create-Repo\">1. Create Remote Repository on GitHub</a>\n",
    " - Internal link with code: [<code>git clone &ltaddress&gt</code>](#git-clone)\n",
    " - Internal link with header: ## <a id=\"Create-Repo\">1. Create Remote Repository on GitHub</a>\n",
    " - External link: <a href=\"https://github.com/\">github.com</a>\n",
    " - Image: <img src=\"img/Verify-SSHKeyConnection-Windows.png\" title=\"github.com\" />"
   ]
  },
  {
   "cell_type": "markdown",
   "metadata": {},
   "source": [
    "# <a id=\"Top-of-Page\">Title</a>\n",
    "***\n",
    "### <a id=\"Contents\">Cotents:</a>\n",
    "[Paragraph 1](#Paragraph-1)<br>\n",
    "[Paragraph 2](#Paragraph-2)<br>\n",
    "[Bottom of Page](#Bottom-of-Page)<br>\n",
    "\n",
    "***\n",
    "## <a id=\"Paragraph-1\">Paragraph 1</a>\n",
    "Some text here...<br>\n",
    "\n",
    "## <a id=\"Paragraph-2\">Paragraph 2</a>\n",
    "Some more text here...<br>\n",
    "***\n",
    "\n",
    "[Top of Page](#Top-of-Page)<br>\n",
    "[Contents](#Contents)<br>\n",
    "[Paragraph 1](#Paragraph-1)<br>\n",
    "[Paragraph 2](#Paragraph-2)<br>\n",
    "<a id=\"Bottom-of-Page\"></a>"
   ]
  }
 ],
 "metadata": {
  "kernelspec": {
   "display_name": "Python 3",
   "language": "python",
   "name": "python3"
  },
  "language_info": {
   "codemirror_mode": {
    "name": "ipython",
    "version": 3
   },
   "file_extension": ".py",
   "mimetype": "text/x-python",
   "name": "python",
   "nbconvert_exporter": "python",
   "pygments_lexer": "ipython3",
   "version": "3.8.8"
  }
 },
 "nbformat": 4,
 "nbformat_minor": 4
}
