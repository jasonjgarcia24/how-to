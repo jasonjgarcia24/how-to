{
 "cells": [
  {
   "cell_type": "markdown",
   "id": "966aa246",
   "metadata": {},
   "source": [
    "# 01 - Set Up Program Environment\n",
    "<br><a href=\"http://truffleframework.com/docs/getting_started/project\">Truffle Docs</a>"
   ]
  },
  {
   "cell_type": "markdown",
   "id": "5e83d79a",
   "metadata": {},
   "source": [
    "## The Truffle Test Server and Ganache\n",
    "Most of the stuff that we need to write the client-side DApps is going to be JavaScript, which can be written in any environment (same as Solidity).<br><br>\n",
    "What needs to be installed is the **truffle test server**. This will be both the be the test server, but it also includes a number of tools that are going to compile the Solidity applications.<br>\n",
    ">Note: Smart contracts do not get compiled on the Ethereum blockchain network. They're already compiled bytecode when they exist within the blockchain.<br>\n",
    "\n",
    "So we'll only migrate the compiled smart contract(s), and Truffle is a great tool for this. In addition, Truffle has a built-in test server.<br><br>\n",
    "We'll also go over installing Ganache. Ganache works side-by-side Truffle. It's optional to use because we have a test server that runs with Truffle. But if wanted, Ganache does provide a nice visual interface. So, it's basically just an Ethereum test server that you can run with a special GUI that you can use to see what's going on and see how much ETH is at different addresses. Ganache also allows you to easily visually browse the transactions that are happening."
   ]
  },
  {
   "cell_type": "markdown",
   "id": "ff78563a",
   "metadata": {},
   "source": [
    "## Installing Truffle\n",
    "<a href=\"https://www.trufflesuite.com/docs/truffle/getting-started/installation\">Truffle Installation Documentation</a><br><br>\n",
    "Installing Truffle requires use of the node installer NPM. In order to do that, you want to make sure that you have Node.JS 5 or higher.<br><br>\n",
    "1. To download Node.js and npm, go to <a href=\"https://phoenixnap.com/kb/install-node-js-npm-on-windows\">How to Install Node.js and NPM on Windows</a>.\n",
    "2. To install Truffle, type <code>npm install -g truffle</code>\n",
    "3. To make sure it's installed, type in <code>truffle version</code><br>\n",
    "<center><img src=\"img/query_truffle_version.png\" title=\"Query truffle version\"></center><br>\n",
    "\n",
    "We now have a command line environment where we can do testing of our smart contracts, run a test server, perform building and migrations of the smart contracts."
   ]
  },
  {
   "cell_type": "markdown",
   "id": "263030d7",
   "metadata": {},
   "source": [
    "## Installing Ganache\n",
    "<a href=\"https://www.trufflesuite.com/docs/ganache/quickstart\">Ganache Installation Documentation</a><br><br>\n",
    "Installing Ganache is optional. The easiest way to do this is to go to <a href=\"https://www.trufflesuite.com/ganache\">https://www.trufflesuite.com/ganache</a> and run the installer for you operating system.<br><br>\n",
    "After running the installer, Ganache should be installed. It's that easy :)"
   ]
  },
  {
   "cell_type": "markdown",
   "id": "18e2ff0e",
   "metadata": {},
   "source": [
    "## Start Truffle Development Environment\n",
    "For the initial startup, run the Initialize Truffle project and Migrate Truffle project sections below. Otherwise, skip to the Launch Truffle development environment step below.<br><br>\n",
    "#### Initialize Truffle project\n",
    "To initialize your Truffle project, type <code>truffle init</code> in bash.\n",
    "<center><img src=\"img/initialize_truffle_project.png\" title=\"Initialize Truffle project\"></center><br>\n",
    "\n",
    "#### Migrate Truffle project\n",
    "To migrate your Truffle project, type <code>truffle migrate</code> in bash.\n",
    "<center><img src=\"img/migrate_truffle_project.png\" title=\"Migrate Truffle project\"></center><br>\n",
    "\n",
    "#### Launch Truffle development environment\n",
    "To start the Truffle development environment, type <code>truffle develop</code> in bash.\n",
    "<center><img src=\"img/launch_truffle_development.png\" title=\"Launch Truffle development environment\"></center>"
   ]
  },
  {
   "cell_type": "markdown",
   "id": "b72c18aa",
   "metadata": {},
   "source": []
  }
 ],
 "metadata": {
  "kernelspec": {
   "display_name": "Python (dev)",
   "language": "python",
   "name": "dev"
  },
  "language_info": {
   "codemirror_mode": {
    "name": "ipython",
    "version": 3
   },
   "file_extension": ".py",
   "mimetype": "text/x-python",
   "name": "python",
   "nbconvert_exporter": "python",
   "pygments_lexer": "ipython3",
   "version": "3.8.8"
  }
 },
 "nbformat": 4,
 "nbformat_minor": 5
}
