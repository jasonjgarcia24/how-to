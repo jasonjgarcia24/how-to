{
 "cells": [
  {
   "cell_type": "markdown",
   "id": "0a1bf83a",
   "metadata": {},
   "source": [
    "# How-To Create ABI with Python<a id=\"Top-of-Page\"/>\n",
    "\n",
    "***"
   ]
  },
  {
   "cell_type": "code",
   "execution_count": 1,
   "id": "b448471b",
   "metadata": {},
   "outputs": [],
   "source": [
    "import json\n",
    "from solcx import compile_standard\n",
    "# from solcx import install_solc\n",
    "# install_solc(\"0.6.0\")\n",
    "\n",
    "with open(\"./SimpleStorage.sol\", \"r\") as file:\n",
    "    simple_storage_file = file.read()\n",
    "\n",
    "# Compile Solidity code\n",
    "compiled_sol = compile_standard(\n",
    "    {\n",
    "        \"language\": \"Solidity\",\n",
    "        \"sources\": {\"SimpleStorage.sol\": {\"content\": simple_storage_file}},\n",
    "        \"settings\": {\n",
    "            \"outputSelection\": {\n",
    "                \"*\": {\"*\": [\"abi\", \"metadata\", \"evm.bytecode\", \"evm.sourceMap\"]}\n",
    "            }\n",
    "        },\n",
    "    },\n",
    "    solc_version=\"0.6.0\",\n",
    ")\n",
    "\n",
    "with open(\"SimpleStorage.json\", \"w\") as file:\n",
    "    json.dump(compiled_sol, file)\n"
   ]
  }
 ],
 "metadata": {
  "kernelspec": {
   "display_name": "venv",
   "language": "python",
   "name": "venv"
  },
  "language_info": {
   "codemirror_mode": {
    "name": "ipython",
    "version": 3
   },
   "file_extension": ".py",
   "mimetype": "text/x-python",
   "name": "python",
   "nbconvert_exporter": "python",
   "pygments_lexer": "ipython3",
   "version": "3.9.12"
  }
 },
 "nbformat": 4,
 "nbformat_minor": 5
}
