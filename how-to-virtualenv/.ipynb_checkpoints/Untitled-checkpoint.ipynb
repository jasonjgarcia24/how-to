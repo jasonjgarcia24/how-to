{
 "cells": [
  {
   "cell_type": "markdown",
   "id": "7943de69",
   "metadata": {},
   "source": [
    "# How-To virtualenv<a id=\"Top-of-Page\"/>\n",
    "<br><a id=\"Contents\" />\n",
    "### Cotents:\n",
    "[1. Create virtualenv](#Create-virtualenv)<br>\n",
    "[2. Activate virtualenv](#Activate-virtualenv)<br>\n",
    "[3. Deactivate virtualenv](#Deactivate-virtualenv)<br>\n",
    "[4. Activate pypy virtualenv Interpreter](#Activate-pypy-virtualenv-Interpreter)<br>\n",
    "[4. Activate pypy Console](#Activate-pypy-Console)<br>\n",
    "[Bottom of Page](#Bottom-of-Page)<br>\n",
    "***"
   ]
  },
  {
   "cell_type": "markdown",
   "id": "fc88fc33",
   "metadata": {},
   "source": [
    "## 1. Create virtualenv<a id=\"Create-virtualenv\" />\n",
    "Create virtualenv with `virtualenv -p pypy <env name>`.<br>\n",
    "\n",
    "<img src=\"./img/Create-virtualenv.jpg\" /><br>\n",
    "\n",
    "<img src=\"./img/Created-virtualenv.jpg\" />"
   ]
  },
  {
   "cell_type": "markdown",
   "id": "f8cf16cb",
   "metadata": {},
   "source": [
    "## 2. Activate virtualenv<a id=\"Activate-virtualenv\" />\n",
    "Activate virtualenv with `source <env path>\\Scripts\\activate`.<br>\n",
    "\n",
    "<img src=\"./img/Activate-virtualenv.jpg\" />"
   ]
  },
  {
   "cell_type": "markdown",
   "id": "023f704e",
   "metadata": {},
   "source": [
    "## 3. Deactivate virtualenv<a id=\"Deactivate-virtualenv\" />\n",
    "Deactivate virtualenv with `deactivate`.<br>\n",
    "\n",
    "<img src=\"./img/Deactivate-virtualenv.jpg\" />"
   ]
  },
  {
   "cell_type": "markdown",
   "id": "a4b0b17a",
   "metadata": {},
   "source": [
    "## 4. Activate pypy virtualenv Interpreter<a id=\"Activate-pypy-virtual-Interpreter\" />\n",
    "On the bottom-right hand corner of VS-Code, select the current interpreter to open the selection dropdown window. Select the interpreter with `('<env name>':venv)`. Once selected, the bottom-right corner should reflect the updated interpreter.\n",
    "\n",
    "<img src=\"./img/Activate-pypy-interpreter-step1.jpg\" /><br>\n",
    "\n",
    "<img src=\"./img/Activate-pypy-interpreter-step2.jpg\" /><br>\n",
    "\n",
    "<img src=\"./img/Activate-pypy-interpreter-step3.jpg\" />\n"
   ]
  },
  {
   "cell_type": "markdown",
   "id": "790882ea",
   "metadata": {},
   "source": [
    "## 5. Activate pypy Console<a id=\"Activate-pypy-Console\" />\n",
    "In the terminal type `pypy`. You should then see the current active version of pypy.\n",
    "\n",
    "<img src=\"./img/Activate-pypy-console.jpg\" />"
   ]
  },
  {
   "cell_type": "markdown",
   "id": "d14ec84d",
   "metadata": {},
   "source": [
    "<a id=\"Bottom-of-Page\"></a>\n",
    "[Top of Page](#Top-of-Page)<br>\n",
    "[Contents](#Contents)<br>\n",
    "[1. Create virtualenv](#Create-virtualenv)<br>\n",
    "[2. Activate virtualenv](#Activate-virtualenv)<br>\n",
    "[3. Deactivate virtualenv](#Deactivate-virtualenv)<br>\n",
    "[4. Activate pypy virtualenv Interpreter](#Activate-pypy-virtualenv-Interpreter)<br>\n",
    "[5. Activate pypy Console](#Activate-pypy-Console)"
   ]
  }
 ],
 "metadata": {
  "kernelspec": {
   "display_name": "Python 3 (ipykernel)",
   "language": "python",
   "name": "python3"
  },
  "language_info": {
   "codemirror_mode": {
    "name": "ipython",
    "version": 3
   },
   "file_extension": ".py",
   "mimetype": "text/x-python",
   "name": "python",
   "nbconvert_exporter": "python",
   "pygments_lexer": "ipython3",
   "version": "3.10.7"
  }
 },
 "nbformat": 4,
 "nbformat_minor": 5
}
